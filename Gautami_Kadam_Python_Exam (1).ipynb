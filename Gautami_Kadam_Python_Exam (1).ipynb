{
 "cells": [
  {
   "cell_type": "code",
   "execution_count": null,
   "id": "95bba15a-c324-420b-8583-0b584dd40e4d",
   "metadata": {},
   "outputs": [],
   "source": [
    "def check_panagram(s):\n",
    "    #print(s)\n",
    "    alpha = 'abcdefghijklmnopqrst'\n",
    "    #print(list(alpha))\n",
    "    remain = []\n",
    "    flag = True\n",
    "    for i in s:\n",
    "        if alpha in i:\n",
    "            print(\"panagram\")\n",
    "            break    \n",
    "        if alpha not in i:\n",
    "            print(\"not panagram\")\n",
    "            while len(i):\n",
    "                if alpha not in i:\n",
    "                    remain.append(alpha)\n",
    "            #print(remain)       \n",
    "    return ''.join(set(remain))\n",
    "\n",
    "a = input(\"enter the string to check if its panagram ir not:\").lower()\n",
    "#print(a)\n",
    "check_panagram(a)"
   ]
  },
  {
   "cell_type": "code",
   "execution_count": 6,
   "id": "7b0b1ffb-8d63-4240-83b7-0b6bf0030276",
   "metadata": {},
   "outputs": [
    {
     "name": "stdin",
     "output_type": "stream",
     "text": [
      "enter no of entries 2\n",
      "enter the product Name: A\n",
      "enter the category,quantity and price with a space A 1 150\n",
      "enter the product Name: B\n",
      "enter the category,quantity and price with a space B 5 400\n"
     ]
    },
    {
     "ename": "AttributeError",
     "evalue": "'_io.TextIOWrapper' object has no attribute 'append'",
     "output_type": "error",
     "traceback": [
      "\u001b[1;31m---------------------------------------------------------------------------\u001b[0m",
      "\u001b[1;31mAttributeError\u001b[0m                            Traceback (most recent call last)",
      "Cell \u001b[1;32mIn[6], line 30\u001b[0m\n\u001b[0;32m     27\u001b[0m         \u001b[38;5;28msum\u001b[39m\u001b[38;5;241m+\u001b[39m\u001b[38;5;241m=\u001b[39m\u001b[38;5;28mint\u001b[39m(i[\u001b[38;5;241m-\u001b[39m\u001b[38;5;241m1\u001b[39m])\n\u001b[0;32m     28\u001b[0m     \u001b[38;5;28;01mreturn\u001b[39;00m \u001b[38;5;28msum\u001b[39m      \n\u001b[1;32m---> 30\u001b[0m \u001b[43mread_file\u001b[49m\u001b[43m(\u001b[49m\u001b[43m)\u001b[49m\n",
      "Cell \u001b[1;32mIn[6], line 9\u001b[0m, in \u001b[0;36mread_file\u001b[1;34m()\u001b[0m\n\u001b[0;32m      7\u001b[0m s \u001b[38;5;241m=\u001b[39m revenue(d1)\n\u001b[0;32m      8\u001b[0m fr1\u001b[38;5;241m.\u001b[39mwrite(\u001b[38;5;28mstr\u001b[39m(d1))\n\u001b[1;32m----> 9\u001b[0m \u001b[43mfr1\u001b[49m\u001b[38;5;241;43m.\u001b[39;49m\u001b[43mappend\u001b[49m(\u001b[38;5;28mstr\u001b[39m(s))\n\u001b[0;32m     10\u001b[0m fr1\u001b[38;5;241m.\u001b[39mclose()\n",
      "\u001b[1;31mAttributeError\u001b[0m: '_io.TextIOWrapper' object has no attribute 'append'"
     ]
    }
   ],
   "source": [
    "def read_file():\n",
    "    fr1 = open(\"inventory_report.txt\",\"a\")\n",
    "    #d = {'A':['Apple','Electronics',150],'B':['Sugar','Grocerry',50],'C':['Shirt','Clothing',1500]}\n",
    "    #read1 = fr1.readline()\n",
    "    #if read1 == '':\n",
    "    d1 = create_dict()\n",
    "    s = revenue(d1)\n",
    "    fr1.write(str(d1))\n",
    "    fr1.append(str(s))\n",
    "    fr1.close()\n",
    "def create_dict():\n",
    "    n = int(input(\"enter no of entries\"))\n",
    "    d = {}\n",
    "    for i in range(n):\n",
    "        k = input('enter the product Name:')\n",
    "        v = input(\"enter the category,quantity and price with a space\").split()\n",
    "        #if int(v[0])<0:\n",
    "            #print(\"invalid input - the price and quantity cannot be negative and product name cannot be empty\")\n",
    "            #break\n",
    "        #else:\n",
    "        d[k] = v\n",
    "    return d\n",
    "\n",
    "def revenue(d):\n",
    "    sum = 0\n",
    "    for i in d.values():\n",
    "        sum+=int(i[-1])\n",
    "    return sum      \n",
    "        \n",
    "read_file()"
   ]
  },
  {
   "cell_type": "code",
   "execution_count": 48,
   "id": "6e9e2800-dcf2-4a46-9d52-f0a55446474e",
   "metadata": {},
   "outputs": [
    {
     "name": "stdin",
     "output_type": "stream",
     "text": [
      "enter no of entries 2\n",
      "enter the product Name: A\n",
      "enter the category,quantity and price with a space E 2 150\n",
      "enter the product Name: B\n",
      "enter the category,quantity and price with a space G 5 180\n"
     ]
    },
    {
     "data": {
      "text/plain": [
       "{'A': ['E', '2', '150'], 'B': ['G', '5', '180']}"
      ]
     },
     "execution_count": 48,
     "metadata": {},
     "output_type": "execute_result"
    }
   ],
   "source": [
    "create_dict()"
   ]
  },
  {
   "cell_type": "code",
   "execution_count": 51,
   "id": "e6a8ec37-73e8-486e-9acd-5efdd5af84a2",
   "metadata": {},
   "outputs": [
    {
     "data": {
      "text/plain": [
       "1700"
      ]
     },
     "execution_count": 51,
     "metadata": {},
     "output_type": "execute_result"
    }
   ],
   "source": [
    "revenue({'A':['Electronics',2,150],'B':['Grocerry',5,50],'C':['Clothing',6,1500]})"
   ]
  },
  {
   "cell_type": "code",
   "execution_count": null,
   "id": "943e04c9-7f87-4b18-a576-42fbaaf7f125",
   "metadata": {},
   "outputs": [],
   "source": []
  }
 ],
 "metadata": {
  "kernelspec": {
   "display_name": "Python 3 (ipykernel)",
   "language": "python",
   "name": "python3"
  },
  "language_info": {
   "codemirror_mode": {
    "name": "ipython",
    "version": 3
   },
   "file_extension": ".py",
   "mimetype": "text/x-python",
   "name": "python",
   "nbconvert_exporter": "python",
   "pygments_lexer": "ipython3",
   "version": "3.11.4"
  }
 },
 "nbformat": 4,
 "nbformat_minor": 5
}
